#!/usr/bin/env python
# coding: utf-8

# <h1> My Jupyter Notebook on IBM Watson Studio</h1>

# <strong>S KAAVEYA</strong><br>
# Analyst
# 

# <em> I like data science because it helps to solve numerous problems using statistical methods and historical data</em>
# 

# <h3> My code displays sum of two numbers</h3>

# In[4]:


x= 5 +3


# In[5]:


x


# Things I love to eat
# <hr>
# <ol>
#     <li> Briyani
#     <li> Noodles
#     <li> Cake
# </ol>
# <hr>
# Places I like to visit
# <ul>
#     <li> Swiss
#     <li> Paris
# </ul>
#     

# In[ ]:




